{
 "cells": [
  {
   "cell_type": "code",
   "execution_count": 2,
   "id": "e50ecf29-978a-483a-a748-f78764757e37",
   "metadata": {},
   "outputs": [],
   "source": [
    "import os \n",
    "\n",
    "import numpy as np\n",
    "import pandas as pd\n",
    "\n",
    "import networkx as nx\n",
    "\n",
    "import matplotlib.pyplot as plt"
   ]
  },
  {
   "cell_type": "code",
   "execution_count": 17,
   "id": "6d7666d2-e2ab-48c2-bfef-a5082ddc5c45",
   "metadata": {},
   "outputs": [
    {
     "data": {
      "text/html": [
       "<div>\n",
       "<style scoped>\n",
       "    .dataframe tbody tr th:only-of-type {\n",
       "        vertical-align: middle;\n",
       "    }\n",
       "\n",
       "    .dataframe tbody tr th {\n",
       "        vertical-align: top;\n",
       "    }\n",
       "\n",
       "    .dataframe thead th {\n",
       "        text-align: right;\n",
       "    }\n",
       "</style>\n",
       "<table border=\"1\" class=\"dataframe\">\n",
       "  <thead>\n",
       "    <tr style=\"text-align: right;\">\n",
       "      <th></th>\n",
       "      <th>source</th>\n",
       "      <th>target</th>\n",
       "      <th>weight</th>\n",
       "    </tr>\n",
       "  </thead>\n",
       "  <tbody>\n",
       "    <tr>\n",
       "      <th>0</th>\n",
       "      <td>MAL944N3R</td>\n",
       "      <td>2P070I351</td>\n",
       "      <td>0.981574</td>\n",
       "    </tr>\n",
       "    <tr>\n",
       "      <th>1</th>\n",
       "      <td>LPAXLZS35</td>\n",
       "      <td>2IUMVXWR8</td>\n",
       "      <td>0.977001</td>\n",
       "    </tr>\n",
       "    <tr>\n",
       "      <th>2</th>\n",
       "      <td>IYMKO9LF4</td>\n",
       "      <td>017MQ4ZTB</td>\n",
       "      <td>0.975498</td>\n",
       "    </tr>\n",
       "    <tr>\n",
       "      <th>3</th>\n",
       "      <td>6CJFVPO4U</td>\n",
       "      <td>P86LCJZFV</td>\n",
       "      <td>0.974873</td>\n",
       "    </tr>\n",
       "    <tr>\n",
       "      <th>4</th>\n",
       "      <td>LBTT9SRNJ</td>\n",
       "      <td>DYH3UPRT6</td>\n",
       "      <td>0.970838</td>\n",
       "    </tr>\n",
       "  </tbody>\n",
       "</table>\n",
       "</div>"
      ],
      "text/plain": [
       "      source     target    weight\n",
       "0  MAL944N3R  2P070I351  0.981574\n",
       "1  LPAXLZS35  2IUMVXWR8  0.977001\n",
       "2  IYMKO9LF4  017MQ4ZTB  0.975498\n",
       "3  6CJFVPO4U  P86LCJZFV  0.974873\n",
       "4  LBTT9SRNJ  DYH3UPRT6  0.970838"
      ]
     },
     "execution_count": 17,
     "metadata": {},
     "output_type": "execute_result"
    }
   ],
   "source": [
    "# IF we want to do something with the edge list in this format\n",
    "# df_edge_list = pd.read_csv('data/interaction/network_with_weights.edgelist',\n",
    "#                            sep='\\t', header=None, names=['source', 'target', 'weight'])\n",
    "# df_edge_list.head()"
   ]
  },
  {
   "cell_type": "code",
   "execution_count": 18,
   "id": "97ff0099-6e10-409b-94aa-eb6060f0eb2e",
   "metadata": {},
   "outputs": [],
   "source": [
    "# Straight forward reading of the interactions into a networkx object\n",
    "G = nx.read_weighted_edgelist('data/interaction/network_with_weights.edgelist')"
   ]
  },
  {
   "cell_type": "code",
   "execution_count": 24,
   "id": "690e4374-d15b-468c-bb3a-0f9c1adbfef6",
   "metadata": {},
   "outputs": [],
   "source": [
    "# Initial visual (not useful)\n",
    "# nx.draw(G)"
   ]
  },
  {
   "cell_type": "code",
   "execution_count": 28,
   "id": "bbc7921b-2886-41bc-adfe-134a2b67ad5c",
   "metadata": {},
   "outputs": [],
   "source": [
    "lc = nx.community.louvain_communities(G)"
   ]
  },
  {
   "cell_type": "code",
   "execution_count": null,
   "id": "096be3a3-83ee-4a90-8dd2-191371feea0d",
   "metadata": {},
   "outputs": [],
   "source": []
  }
 ],
 "metadata": {
  "kernelspec": {
   "display_name": "Python 3 (ipykernel)",
   "language": "python",
   "name": "python3"
  },
  "language_info": {
   "codemirror_mode": {
    "name": "ipython",
    "version": 3
   },
   "file_extension": ".py",
   "mimetype": "text/x-python",
   "name": "python",
   "nbconvert_exporter": "python",
   "pygments_lexer": "ipython3",
   "version": "3.13.1"
  }
 },
 "nbformat": 4,
 "nbformat_minor": 5
}
